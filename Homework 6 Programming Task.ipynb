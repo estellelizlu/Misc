{
 "cells": [
  {
   "cell_type": "markdown",
   "metadata": {},
   "source": [
    "<h1 align=\"center\"> Homework 6 Programming Task</h1>\n",
    "<h3 align=\"center\"> IST 5520: Data Science and Machine Learning with Python, 2022 Fall </h3>\n",
    "<h3 align=\"center\"> Student: Estelle Lu\n",
    "</h3>"
   ]
  },
  {
   "cell_type": "markdown",
   "metadata": {},
   "source": [
    "**Instruction:**\n",
    "\n",
    "Complete the following tasks (1 point for each task or question, 12 points in total). You can add additional lines if necessary."
   ]
  },
  {
   "cell_type": "markdown",
   "metadata": {},
   "source": [
    "# Task: Summarize and Visualize Data (12 points)"
   ]
  },
  {
   "cell_type": "markdown",
   "metadata": {},
   "source": [
    "## (1) Read in dataset\n",
    "\n",
    "The data file “UniversalBank.csv” contains a dataset of 5000 customers of the Universal Bank.\n",
    "\n",
    "Below is the description of columns in the dataset.\n",
    "\n",
    "- Id: Customer ID\n",
    "- Age: Customer’s age in completed years\n",
    "- Experience: #years of professional experience\n",
    "- Income: Annual income of the customer (1000 dollars)\n",
    "- ZIPCode: Home Address ZIP code.\n",
    "- Family: Family size of the customer\n",
    "- CCAvg: Avg. spending on credit cards per month (1000 dollors)\n",
    "- Education: Education Level. 1: Undergrad; 2: Graduate; 3: Advanced/Professional\n",
    "- Mortgage: Value of house mortgage if any. (1000 dollars)\n",
    "- Personal_Loan: Did this customer accept the personal loan offered in the last campaign?\n",
    "- Securities_Account: Does the customer have a securities account with the bank?\n",
    "- CD_Account: Does the customer have a certificate of deposit (CD) account with the bank?\n",
    "- Online: Does the customer use internet banking facilities?\n",
    "- CreditCard: Does the customer use a credit card issued by UniversalBank?"
   ]
  },
  {
   "cell_type": "code",
   "execution_count": 47,
   "metadata": {
    "scrolled": true
   },
   "outputs": [
    {
     "data": {
      "text/html": [
       "<div>\n",
       "<style scoped>\n",
       "    .dataframe tbody tr th:only-of-type {\n",
       "        vertical-align: middle;\n",
       "    }\n",
       "\n",
       "    .dataframe tbody tr th {\n",
       "        vertical-align: top;\n",
       "    }\n",
       "\n",
       "    .dataframe thead th {\n",
       "        text-align: right;\n",
       "    }\n",
       "</style>\n",
       "<table border=\"1\" class=\"dataframe\">\n",
       "  <thead>\n",
       "    <tr style=\"text-align: right;\">\n",
       "      <th></th>\n",
       "      <th>Id</th>\n",
       "      <th>Age</th>\n",
       "      <th>Experience</th>\n",
       "      <th>Income</th>\n",
       "      <th>ZIP_Code</th>\n",
       "      <th>Family</th>\n",
       "      <th>CCAvg</th>\n",
       "      <th>Education</th>\n",
       "      <th>Mortgage</th>\n",
       "      <th>Personal_Loan</th>\n",
       "      <th>Securities_Account</th>\n",
       "      <th>CD_Account</th>\n",
       "      <th>Online</th>\n",
       "      <th>CreditCard</th>\n",
       "    </tr>\n",
       "  </thead>\n",
       "  <tbody>\n",
       "    <tr>\n",
       "      <th>2266</th>\n",
       "      <td>2267</td>\n",
       "      <td>38</td>\n",
       "      <td>13</td>\n",
       "      <td>143</td>\n",
       "      <td>94550</td>\n",
       "      <td>1</td>\n",
       "      <td>4.1</td>\n",
       "      <td>1</td>\n",
       "      <td>0</td>\n",
       "      <td>0</td>\n",
       "      <td>0</td>\n",
       "      <td>0</td>\n",
       "      <td>0</td>\n",
       "      <td>0</td>\n",
       "    </tr>\n",
       "    <tr>\n",
       "      <th>1172</th>\n",
       "      <td>1173</td>\n",
       "      <td>49</td>\n",
       "      <td>24</td>\n",
       "      <td>45</td>\n",
       "      <td>92104</td>\n",
       "      <td>3</td>\n",
       "      <td>1.7</td>\n",
       "      <td>2</td>\n",
       "      <td>0</td>\n",
       "      <td>0</td>\n",
       "      <td>1</td>\n",
       "      <td>0</td>\n",
       "      <td>1</td>\n",
       "      <td>0</td>\n",
       "    </tr>\n",
       "    <tr>\n",
       "      <th>2844</th>\n",
       "      <td>2845</td>\n",
       "      <td>60</td>\n",
       "      <td>34</td>\n",
       "      <td>64</td>\n",
       "      <td>95014</td>\n",
       "      <td>3</td>\n",
       "      <td>2.2</td>\n",
       "      <td>3</td>\n",
       "      <td>0</td>\n",
       "      <td>0</td>\n",
       "      <td>0</td>\n",
       "      <td>0</td>\n",
       "      <td>0</td>\n",
       "      <td>0</td>\n",
       "    </tr>\n",
       "    <tr>\n",
       "      <th>3068</th>\n",
       "      <td>3069</td>\n",
       "      <td>56</td>\n",
       "      <td>26</td>\n",
       "      <td>90</td>\n",
       "      <td>92120</td>\n",
       "      <td>2</td>\n",
       "      <td>4.5</td>\n",
       "      <td>3</td>\n",
       "      <td>0</td>\n",
       "      <td>0</td>\n",
       "      <td>0</td>\n",
       "      <td>0</td>\n",
       "      <td>0</td>\n",
       "      <td>0</td>\n",
       "    </tr>\n",
       "    <tr>\n",
       "      <th>310</th>\n",
       "      <td>311</td>\n",
       "      <td>57</td>\n",
       "      <td>32</td>\n",
       "      <td>39</td>\n",
       "      <td>90277</td>\n",
       "      <td>4</td>\n",
       "      <td>0.9</td>\n",
       "      <td>1</td>\n",
       "      <td>0</td>\n",
       "      <td>0</td>\n",
       "      <td>0</td>\n",
       "      <td>0</td>\n",
       "      <td>1</td>\n",
       "      <td>1</td>\n",
       "    </tr>\n",
       "    <tr>\n",
       "      <th>4901</th>\n",
       "      <td>4902</td>\n",
       "      <td>26</td>\n",
       "      <td>0</td>\n",
       "      <td>54</td>\n",
       "      <td>96094</td>\n",
       "      <td>3</td>\n",
       "      <td>1.1</td>\n",
       "      <td>2</td>\n",
       "      <td>0</td>\n",
       "      <td>0</td>\n",
       "      <td>0</td>\n",
       "      <td>0</td>\n",
       "      <td>1</td>\n",
       "      <td>0</td>\n",
       "    </tr>\n",
       "    <tr>\n",
       "      <th>487</th>\n",
       "      <td>488</td>\n",
       "      <td>39</td>\n",
       "      <td>13</td>\n",
       "      <td>88</td>\n",
       "      <td>94117</td>\n",
       "      <td>4</td>\n",
       "      <td>1.4</td>\n",
       "      <td>2</td>\n",
       "      <td>0</td>\n",
       "      <td>0</td>\n",
       "      <td>0</td>\n",
       "      <td>0</td>\n",
       "      <td>1</td>\n",
       "      <td>1</td>\n",
       "    </tr>\n",
       "    <tr>\n",
       "      <th>4826</th>\n",
       "      <td>4827</td>\n",
       "      <td>56</td>\n",
       "      <td>31</td>\n",
       "      <td>81</td>\n",
       "      <td>93943</td>\n",
       "      <td>2</td>\n",
       "      <td>0.0</td>\n",
       "      <td>3</td>\n",
       "      <td>225</td>\n",
       "      <td>0</td>\n",
       "      <td>0</td>\n",
       "      <td>0</td>\n",
       "      <td>0</td>\n",
       "      <td>0</td>\n",
       "    </tr>\n",
       "    <tr>\n",
       "      <th>2252</th>\n",
       "      <td>2253</td>\n",
       "      <td>58</td>\n",
       "      <td>32</td>\n",
       "      <td>41</td>\n",
       "      <td>95819</td>\n",
       "      <td>3</td>\n",
       "      <td>1.4</td>\n",
       "      <td>1</td>\n",
       "      <td>0</td>\n",
       "      <td>0</td>\n",
       "      <td>0</td>\n",
       "      <td>0</td>\n",
       "      <td>1</td>\n",
       "      <td>0</td>\n",
       "    </tr>\n",
       "    <tr>\n",
       "      <th>1123</th>\n",
       "      <td>1124</td>\n",
       "      <td>46</td>\n",
       "      <td>20</td>\n",
       "      <td>91</td>\n",
       "      <td>92521</td>\n",
       "      <td>4</td>\n",
       "      <td>2.6</td>\n",
       "      <td>3</td>\n",
       "      <td>0</td>\n",
       "      <td>0</td>\n",
       "      <td>0</td>\n",
       "      <td>0</td>\n",
       "      <td>0</td>\n",
       "      <td>0</td>\n",
       "    </tr>\n",
       "  </tbody>\n",
       "</table>\n",
       "</div>"
      ],
      "text/plain": [
       "        Id  Age  Experience  Income  ZIP_Code  Family  CCAvg  Education  \\\n",
       "2266  2267   38          13     143     94550       1    4.1          1   \n",
       "1172  1173   49          24      45     92104       3    1.7          2   \n",
       "2844  2845   60          34      64     95014       3    2.2          3   \n",
       "3068  3069   56          26      90     92120       2    4.5          3   \n",
       "310    311   57          32      39     90277       4    0.9          1   \n",
       "4901  4902   26           0      54     96094       3    1.1          2   \n",
       "487    488   39          13      88     94117       4    1.4          2   \n",
       "4826  4827   56          31      81     93943       2    0.0          3   \n",
       "2252  2253   58          32      41     95819       3    1.4          1   \n",
       "1123  1124   46          20      91     92521       4    2.6          3   \n",
       "\n",
       "      Mortgage  Personal_Loan  Securities_Account  CD_Account  Online  \\\n",
       "2266         0              0                   0           0       0   \n",
       "1172         0              0                   1           0       1   \n",
       "2844         0              0                   0           0       0   \n",
       "3068         0              0                   0           0       0   \n",
       "310          0              0                   0           0       1   \n",
       "4901         0              0                   0           0       1   \n",
       "487          0              0                   0           0       1   \n",
       "4826       225              0                   0           0       0   \n",
       "2252         0              0                   0           0       1   \n",
       "1123         0              0                   0           0       0   \n",
       "\n",
       "      CreditCard  \n",
       "2266           0  \n",
       "1172           0  \n",
       "2844           0  \n",
       "3068           0  \n",
       "310            1  \n",
       "4901           0  \n",
       "487            1  \n",
       "4826           0  \n",
       "2252           0  \n",
       "1123           0  "
      ]
     },
     "execution_count": 47,
     "metadata": {},
     "output_type": "execute_result"
    }
   ],
   "source": [
    "import numpy as np\n",
    "import pandas as pd\n",
    "from scipy import stats\n",
    "import matplotlib.pyplot as plt\n",
    "import seaborn as sns\n",
    "\n",
    "dat = pd.read_csv('/Users/estellelu/downloads/UniversalBank.csv')\n",
    "dat.sample(10)"
   ]
  },
  {
   "cell_type": "markdown",
   "metadata": {},
   "source": [
    "## (2) Print the number of observations and the number of variables in the dataset.\n",
    "\n",
    "Use the following format:\n",
    "\n",
    "\"Number of observations = xxx\"\n",
    "\n",
    "\"Number of variables = xxx\"\n",
    "\n",
    "Do not hard code your logic."
   ]
  },
  {
   "cell_type": "code",
   "execution_count": 48,
   "metadata": {},
   "outputs": [
    {
     "name": "stdout",
     "output_type": "stream",
     "text": [
      "Number of observations =  5000\n"
     ]
    }
   ],
   "source": [
    "print (\"Number of observations = \", len(dat.index))"
   ]
  },
  {
   "cell_type": "code",
   "execution_count": 49,
   "metadata": {
    "scrolled": true
   },
   "outputs": [
    {
     "name": "stdout",
     "output_type": "stream",
     "text": [
      "Number of variables =  14\n"
     ]
    }
   ],
   "source": [
    "print (\"Number of variables = \",dat.shape[1])"
   ]
  },
  {
   "cell_type": "markdown",
   "metadata": {},
   "source": [
    "## (3)  Create a contingency table (two-way frequency table) of 'Family' and 'Education', showing subtotals (margins)"
   ]
  },
  {
   "cell_type": "code",
   "execution_count": 50,
   "metadata": {
    "scrolled": false
   },
   "outputs": [
    {
     "data": {
      "text/html": [
       "<div>\n",
       "<style scoped>\n",
       "    .dataframe tbody tr th:only-of-type {\n",
       "        vertical-align: middle;\n",
       "    }\n",
       "\n",
       "    .dataframe tbody tr th {\n",
       "        vertical-align: top;\n",
       "    }\n",
       "\n",
       "    .dataframe thead th {\n",
       "        text-align: right;\n",
       "    }\n",
       "</style>\n",
       "<table border=\"1\" class=\"dataframe\">\n",
       "  <thead>\n",
       "    <tr style=\"text-align: right;\">\n",
       "      <th>Education</th>\n",
       "      <th>1</th>\n",
       "      <th>2</th>\n",
       "      <th>3</th>\n",
       "      <th>Total</th>\n",
       "    </tr>\n",
       "    <tr>\n",
       "      <th>Family</th>\n",
       "      <th></th>\n",
       "      <th></th>\n",
       "      <th></th>\n",
       "      <th></th>\n",
       "    </tr>\n",
       "  </thead>\n",
       "  <tbody>\n",
       "    <tr>\n",
       "      <th>1</th>\n",
       "      <td>678</td>\n",
       "      <td>326</td>\n",
       "      <td>468</td>\n",
       "      <td>1472</td>\n",
       "    </tr>\n",
       "    <tr>\n",
       "      <th>2</th>\n",
       "      <td>657</td>\n",
       "      <td>265</td>\n",
       "      <td>374</td>\n",
       "      <td>1296</td>\n",
       "    </tr>\n",
       "    <tr>\n",
       "      <th>3</th>\n",
       "      <td>349</td>\n",
       "      <td>383</td>\n",
       "      <td>278</td>\n",
       "      <td>1010</td>\n",
       "    </tr>\n",
       "    <tr>\n",
       "      <th>4</th>\n",
       "      <td>412</td>\n",
       "      <td>429</td>\n",
       "      <td>381</td>\n",
       "      <td>1222</td>\n",
       "    </tr>\n",
       "    <tr>\n",
       "      <th>Total</th>\n",
       "      <td>2096</td>\n",
       "      <td>1403</td>\n",
       "      <td>1501</td>\n",
       "      <td>5000</td>\n",
       "    </tr>\n",
       "  </tbody>\n",
       "</table>\n",
       "</div>"
      ],
      "text/plain": [
       "Education     1     2     3  Total\n",
       "Family                            \n",
       "1           678   326   468   1472\n",
       "2           657   265   374   1296\n",
       "3           349   383   278   1010\n",
       "4           412   429   381   1222\n",
       "Total      2096  1403  1501   5000"
      ]
     },
     "execution_count": 50,
     "metadata": {},
     "output_type": "execute_result"
    }
   ],
   "source": [
    "pd.crosstab(dat.Family, dat.Education, margins=True, margins_name=\"Total\")"
   ]
  },
  {
   "cell_type": "markdown",
   "metadata": {},
   "source": [
    "**Question 1**: What is the value in the cell where Family=3 and Education=1? Type your answer below (0.5 point)\n",
    "\n",
    "Your answer: 349\n",
    "\n",
    "Interpret the meaning of this value below (0.5 point).\n",
    "\n",
    "Your interpretation:Education Level 3 is grouped as \"Advanced/Professional\". The highest value in column 3 in education is with the smallest family size = 1. This suggests that that the smaller the family size the higher the education level."
   ]
  },
  {
   "cell_type": "markdown",
   "metadata": {},
   "source": [
    "## (4) Draw a scatter plot of 'Income' and 'CCAvg'.\n",
    "\n",
    "Use Income as x variable, CCAvg as y variable.\n",
    "\n",
    "Specify the labels of x-axis and y-axis by using easy-to-understand language."
   ]
  },
  {
   "cell_type": "code",
   "execution_count": 21,
   "metadata": {},
   "outputs": [
    {
     "data": {
      "text/plain": [
       "<AxesSubplot:xlabel='Income', ylabel='CCAvg'>"
      ]
     },
     "execution_count": 21,
     "metadata": {},
     "output_type": "execute_result"
    },
    {
     "data": {
      "image/png": "[encoded data removed]",
      "text/plain": [
       "<Figure size 432x288 with 1 Axes>"
      ]
     },
     "metadata": {
      "needs_background": "light"
     },
     "output_type": "display_data"
    }
   ],
   "source": [
    "df = pd.read_csv(\"UniversalBank.csv\")\n",
    "df.plot(kind='scatter',x='Income',y='CCAvg')"
   ]
  },
  {
   "cell_type": "markdown",
   "metadata": {},
   "source": [
    "**Question 2**: Based on the scatter plot, what is the relationship between anual income and average spending on credit cards? Type your answer below.\n",
    "\n",
    "Your answer:\n",
    "It is a positive relationship. The higher the annual income the higher the average spending on credit cards"
   ]
  },
  {
   "cell_type": "markdown",
   "metadata": {},
   "source": [
    "## (5) Draw a boxplot of Income grouped by Personal_Loan.\n",
    "\n",
    "Draw a boxplot of income for customers who accepted the personal loan and another boxplot for customers who did not accept the personal loan. Show all the two boxplots in a single graph."
   ]
  },
  {
   "cell_type": "code",
   "execution_count": 29,
   "metadata": {},
   "outputs": [
    {
     "data": {
      "text/plain": [
       "<AxesSubplot:xlabel='Personal_Loan', ylabel='Income'>"
      ]
     },
     "execution_count": 29,
     "metadata": {},
     "output_type": "execute_result"
    },
    {
     "data": {
      "image/png": "[encoded data removed]",
      "text/plain": [
       "<Figure size 432x288 with 1 Axes>"
      ]
     },
     "metadata": {
      "needs_background": "light"
     },
     "output_type": "display_data"
    }
   ],
   "source": [
    "sns.boxplot(y=dat[\"Income\"],x=dat[\"Personal_Loan\"])"
   ]
  },
  {
   "cell_type": "markdown",
   "metadata": {},
   "source": [
    "**Question 3**: Based on the box plot, which group of customers contains outliers of income? What is the relationship between a customer's income and whether the customer accepted the personal loan? Type all your answers below.\n",
    "\n",
    "Your answer:\n",
    "(1) The group of customers who did not accept the personal loan (Personal_Loan=0) offered contain outliers of income higher than 150. \n",
    "The outcome of the next 2 lines of code shows those ouliers with an Income>150 but with Personal_Loan=0.\n",
    "\n",
    "(2) The relationship between a customer's income and whether or not the customer accepted the personal loan seems show that those with an income lower than 100 were not offered the personal loan (Personal_Loan=0)."
   ]
  },
  {
   "cell_type": "code",
   "execution_count": 54,
   "metadata": {},
   "outputs": [
    {
     "data": {
      "text/html": [
       "<div>\n",
       "<style scoped>\n",
       "    .dataframe tbody tr th:only-of-type {\n",
       "        vertical-align: middle;\n",
       "    }\n",
       "\n",
       "    .dataframe tbody tr th {\n",
       "        vertical-align: top;\n",
       "    }\n",
       "\n",
       "    .dataframe thead th {\n",
       "        text-align: right;\n",
       "    }\n",
       "</style>\n",
       "<table border=\"1\" class=\"dataframe\">\n",
       "  <thead>\n",
       "    <tr style=\"text-align: right;\">\n",
       "      <th></th>\n",
       "      <th>Personal_Loan</th>\n",
       "      <th>Income</th>\n",
       "    </tr>\n",
       "  </thead>\n",
       "  <tbody>\n",
       "    <tr>\n",
       "      <th>24</th>\n",
       "      <td>0</td>\n",
       "      <td>152</td>\n",
       "    </tr>\n",
       "    <tr>\n",
       "      <th>27</th>\n",
       "      <td>0</td>\n",
       "      <td>158</td>\n",
       "    </tr>\n",
       "    <tr>\n",
       "      <th>59</th>\n",
       "      <td>0</td>\n",
       "      <td>188</td>\n",
       "    </tr>\n",
       "    <tr>\n",
       "      <th>97</th>\n",
       "      <td>0</td>\n",
       "      <td>161</td>\n",
       "    </tr>\n",
       "    <tr>\n",
       "      <th>148</th>\n",
       "      <td>0</td>\n",
       "      <td>163</td>\n",
       "    </tr>\n",
       "    <tr>\n",
       "      <th>...</th>\n",
       "      <td>...</td>\n",
       "      <td>...</td>\n",
       "    </tr>\n",
       "    <tr>\n",
       "      <th>4895</th>\n",
       "      <td>0</td>\n",
       "      <td>201</td>\n",
       "    </tr>\n",
       "    <tr>\n",
       "      <th>4911</th>\n",
       "      <td>0</td>\n",
       "      <td>153</td>\n",
       "    </tr>\n",
       "    <tr>\n",
       "      <th>4937</th>\n",
       "      <td>0</td>\n",
       "      <td>162</td>\n",
       "    </tr>\n",
       "    <tr>\n",
       "      <th>4981</th>\n",
       "      <td>0</td>\n",
       "      <td>195</td>\n",
       "    </tr>\n",
       "    <tr>\n",
       "      <th>4993</th>\n",
       "      <td>0</td>\n",
       "      <td>218</td>\n",
       "    </tr>\n",
       "  </tbody>\n",
       "</table>\n",
       "<p>224 rows × 2 columns</p>\n",
       "</div>"
      ],
      "text/plain": [
       "      Personal_Loan  Income\n",
       "24                0     152\n",
       "27                0     158\n",
       "59                0     188\n",
       "97                0     161\n",
       "148               0     163\n",
       "...             ...     ...\n",
       "4895              0     201\n",
       "4911              0     153\n",
       "4937              0     162\n",
       "4981              0     195\n",
       "4993              0     218\n",
       "\n",
       "[224 rows x 2 columns]"
      ]
     },
     "execution_count": 54,
     "metadata": {},
     "output_type": "execute_result"
    }
   ],
   "source": [
    "dat2=dat[['Personal_Loan','Income']]\n",
    "dat2[(dat2.Personal_Loan == 0) & (dat2.Income >150)]"
   ]
  },
  {
   "cell_type": "markdown",
   "metadata": {},
   "source": [
    "## (6) Detect potential outliers in Income\n",
    "\n",
    "Draw a boxplot of Income for all customers. Show all observations in the dataset that contain outliers in the Income variable. "
   ]
  },
  {
   "cell_type": "code",
   "execution_count": 52,
   "metadata": {},
   "outputs": [
    {
     "data": {
      "text/plain": [
       "<AxesSubplot:xlabel='Personal_Loan', ylabel='Income'>"
      ]
     },
     "execution_count": 52,
     "metadata": {},
     "output_type": "execute_result"
    },
    {
     "data": {
      "image/png": "[encoded data removed]",
      "text/plain": [
       "<Figure size 432x288 with 1 Axes>"
      ]
     },
     "metadata": {
      "needs_background": "light"
     },
     "output_type": "display_data"
    }
   ],
   "source": [
    "dat2=dat[['Personal_Loan','Income']]\n",
    "dat3=dat2[(dat2.Personal_Loan == 0) & (dat2.Income >150)]\n",
    "sns.boxplot(y=dat3[\"Income\"],x=dat3[\"Personal_Loan\"])"
   ]
  },
  {
   "cell_type": "markdown",
   "metadata": {},
   "source": [
    "**Question 4**: How many outliers have you detected? Type your answer below.\n",
    "\n",
    "Print your answer below. Use the format 'The number of outliers detected = xx'."
   ]
  },
  {
   "cell_type": "code",
   "execution_count": 53,
   "metadata": {},
   "outputs": [
    {
     "name": "stdout",
     "output_type": "stream",
     "text": [
      "The number of outliers detected =  224\n"
     ]
    }
   ],
   "source": [
    "dat2=dat[['Personal_Loan','Income']]\n",
    "dat3=dat2[(dat2.Personal_Loan == 0) & (dat2.Income >150)]\n",
    "count_rows=dat3.shape[0]\n",
    "print ('The number of outliers detected = ', count_rows)"
   ]
  },
  {
   "cell_type": "markdown",
   "metadata": {},
   "source": [
    "## (7) Draw a bar chart of CCAvg for all family sizes.\n",
    "\n",
    "Show a bar for each family size.\n",
    "\n",
    "Show standard errors on the bars."
   ]
  },
  {
   "cell_type": "code",
   "execution_count": 28,
   "metadata": {
    "scrolled": true
   },
   "outputs": [
    {
     "data": {
      "text/plain": [
       "Text(0.5, 1.0, 'CCAvg for all family sizes')"
      ]
     },
     "execution_count": 28,
     "metadata": {},
     "output_type": "execute_result"
    },
    {
     "data": {
      "image/png": "[encoded data removed]",
      "text/plain": [
       "<Figure size 432x288 with 1 Axes>"
      ]
     },
     "metadata": {
      "needs_background": "light"
     },
     "output_type": "display_data"
    }
   ],
   "source": [
    "import pandas as pd\n",
    "import seaborn as sns\n",
    "import matplotlib.pyplot as plt\n",
    "dat = pd.read_csv('/Users/estellelu/downloads/UniversalBank.csv')\n",
    "df = pd.read_csv(\"UniversalBank.csv\")\n",
    "sns.barplot(x = 'Family',y = 'CCAvg',data = df)\n",
    "plt.title('CCAvg for all family sizes')"
   ]
  },
  {
   "cell_type": "markdown",
   "metadata": {},
   "source": [
    "**Question 5**: Based on the above bar plot, which family has the highest average spending on credit cards per month? Which family size has the greatest variation in the average spending? Type your answers below.\n",
    "\n",
    "Your answer:Family 2 has the highest average spending on credit cards per month\n",
    "\n"
   ]
  }
 ],
 "metadata": {
  "anaconda-cloud": {},
  "kernelspec": {
   "display_name": "Python 3 (ipykernel)",
   "language": "python",
   "name": "python3"
  },
  "language_info": {
   "codemirror_mode": {
    "name": "ipython",
    "version": 3
   },
   "file_extension": ".py",
   "mimetype": "text/x-python",
   "name": "python",
   "nbconvert_exporter": "python",
   "pygments_lexer": "ipython3",
   "version": "3.9.12"
  }
 },
 "nbformat": 4,
 "nbformat_minor": 1
}
