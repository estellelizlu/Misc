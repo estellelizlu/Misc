{
 "cells": [
  {
   "cell_type": "markdown",
   "metadata": {},
   "source": [
    "<h1 align=\"center\"> IST 5520 Homework 4: Application </h1>\n",
    "<h3 align=\"center\"> The pandas Package </h3>\n",
    "<h3 align=\"center\"> Student: Estelle Lu </h3>"
   ]
  },
  {
   "cell_type": "markdown",
   "metadata": {},
   "source": [
    "**Instruction:**\n",
    "\n",
    "Complete the following tasks (8 points in total). You can add additional lines if necessary. You must implement the programming logic to create the required objects, rather than manually typing values to create objects unless manual input is specifically required (for example task 1.1)."
   ]
  },
  {
   "cell_type": "markdown",
   "metadata": {},
   "source": [
    "# Task 1: pandas Series (4 points)"
   ]
  },
  {
   "cell_type": "markdown",
   "metadata": {},
   "source": [
    "1.1 Manually create a pandas Series object named 'score' that contains the following elements:\n",
    "\n",
    "51, 78, 84, 95, 64, 82, 89, 68, 91"
   ]
  },
  {
   "cell_type": "code",
   "execution_count": null,
   "metadata": {
    "collapsed": true
   },
   "outputs": [],
   "source": [
    "import pandas as pd\n",
    "import numpy as np\n",
    "data = np.array(['51','78','84','95','64','82','89','68','91'])\n",
    "ser= pd.Series(data)\n",
    "print(ser)"
   ]
  },
  {
   "cell_type": "markdown",
   "metadata": {},
   "source": [
    "1.2 Append one more value 90 into the score series by using pd.concat() method. The pd.concat() method can concatenate two Series objects into one Series object. Check the method' signature or document if you are not familiar with its usage.\n",
    "\n",
    "Hints: \n",
    "- Call the pd.concat() method to concatenate two Series objects into one Series object. \n",
    "- The index should be from 0 to 9. If the index of the result is not correct, call the reset_index() to reset the index."
   ]
  },
  {
   "cell_type": "code",
   "execution_count": null,
   "metadata": {
    "collapsed": true
   },
   "outputs": [],
   "source": []
  },
  {
   "cell_type": "markdown",
   "metadata": {},
   "source": [
    "1.3 Calculate the mean of all elements in the Series object."
   ]
  },
  {
   "cell_type": "code",
   "execution_count": null,
   "metadata": {},
   "outputs": [],
   "source": []
  },
  {
   "cell_type": "markdown",
   "metadata": {},
   "source": [
    "1.4 Sort the Series object in descending order."
   ]
  },
  {
   "cell_type": "code",
   "execution_count": null,
   "metadata": {},
   "outputs": [],
   "source": []
  },
  {
   "cell_type": "markdown",
   "metadata": {},
   "source": [
    "# Task 2: Loop (4 points)"
   ]
  },
  {
   "cell_type": "markdown",
   "metadata": {},
   "source": [
    "2.1 Define a function to convert a score value to a letter grade. "
   ]
  },
  {
   "cell_type": "code",
   "execution_count": null,
   "metadata": {
    "collapsed": true
   },
   "outputs": [],
   "source": []
  },
  {
   "cell_type": "markdown",
   "metadata": {},
   "source": [
    "2.2 Use a for loop to calculate letter grade for each value in the score object. Store the letter grade in a pandas Series object called \"grade\". Show the content of the grade Series.\n",
    "\n",
    "Hint: \n",
    "- The index should be from 0 to 9. If the index of the result is not correct, call the reset_index() to reset the index."
   ]
  },
  {
   "cell_type": "code",
   "execution_count": null,
   "metadata": {},
   "outputs": [],
   "source": []
  },
  {
   "cell_type": "markdown",
   "metadata": {},
   "source": [
    "2.3. Combine the score and grade arrays into a pandas DataFrame. The 1st column shows the score and the 2nd column shows the letter grade. Make sure the two columns are named as 'score' and 'grade' respectively. Show the content of this DataFrame. (2 points)\n",
    "\n",
    "Hint: \n",
    "- Use the pd.concat() method to concatenate multiple Series objects into a DataFrame object."
   ]
  },
  {
   "cell_type": "code",
   "execution_count": null,
   "metadata": {},
   "outputs": [],
   "source": []
  }
 ],
 "metadata": {
  "anaconda-cloud": {},
  "kernelspec": {
   "display_name": "Python 3 (ipykernel)",
   "language": "python",
   "name": "python3"
  },
  "language_info": {
   "codemirror_mode": {
    "name": "ipython",
    "version": 3
   },
   "file_extension": ".py",
   "mimetype": "text/x-python",
   "name": "python",
   "nbconvert_exporter": "python",
   "pygments_lexer": "ipython3",
   "version": "3.9.12"
  }
 },
 "nbformat": 4,
 "nbformat_minor": 1
}
