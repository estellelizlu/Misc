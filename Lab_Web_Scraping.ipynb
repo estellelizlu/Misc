{
 "cells": [
  {
   "cell_type": "markdown",
   "metadata": {},
   "source": [
    "<h1 align=\"center\"> Scraping Posts from Online Gaming Forum </h1>\n",
    "<h3 align=\"center\"> By: Estelle Lu </h3>\n",
    "<h3 align=\"center\"> Last Update: 9/26/2022 </h3>"
   ]
  },
  {
   "cell_type": "markdown",
   "metadata": {},
   "source": [
    "Note: This notebook ran successfully on Sep 26th, 2022. It may not work in the future due to the change of the website URL as well as its HTML structure.\n",
    "\n",
    "install bs4 package with the following command:\n",
    "\n",
    "pip install --upgrade  bs4"
   ]
  },
  {
   "cell_type": "code",
   "execution_count": 1,
   "metadata": {},
   "outputs": [],
   "source": [
    "# Import required modules\n",
    "\n",
    "import pandas as pd\n",
    "import numpy as np\n",
    "import requests\n",
    "from bs4 import BeautifulSoup"
   ]
  },
  {
   "cell_type": "markdown",
   "metadata": {},
   "source": [
    "I collected posts from an online gaming forum: https://www.vgr.com/forum/forum/37-gaming-forum/"
   ]
  },
  {
   "cell_type": "markdown",
   "metadata": {},
   "source": [
    "# 1. Preprare URLs\n",
    "\n",
    "First, create an URL template. "
   ]
  },
  {
   "cell_type": "code",
   "execution_count": 2,
   "metadata": {},
   "outputs": [],
   "source": [
    "# Use back slash to break a statement into multiple lines\n",
    "url_temp = 'https://www.vgr.com/forum/forum/37-gaming-forum/page/{page_num}/'"
   ]
  },
  {
   "cell_type": "markdown",
   "metadata": {},
   "source": [
    "The format() method to generate a couple of URLs of online forum pages."
   ]
  },
  {
   "cell_type": "code",
   "execution_count": 3,
   "metadata": {},
   "outputs": [
    {
     "data": {
      "text/plain": [
       "'https://www.vgr.com/forum/forum/37-gaming-forum/page/1/'"
      ]
     },
     "execution_count": 3,
     "metadata": {},
     "output_type": "execute_result"
    }
   ],
   "source": [
    "# The URL of the first review page is:\n",
    "url_temp.format(page_num = 1)"
   ]
  },
  {
   "cell_type": "code",
   "execution_count": 4,
   "metadata": {},
   "outputs": [
    {
     "data": {
      "text/plain": [
       "'https://www.vgr.com/forum/forum/37-gaming-forum/page/2/'"
      ]
     },
     "execution_count": 4,
     "metadata": {},
     "output_type": "execute_result"
    }
   ],
   "source": [
    "# The URL of the second review page is:\n",
    "url_temp.format(page_num = 2)"
   ]
  },
  {
   "cell_type": "code",
   "execution_count": 5,
   "metadata": {
    "scrolled": true
   },
   "outputs": [
    {
     "data": {
      "text/plain": [
       "'https://www.vgr.com/forum/forum/37-gaming-forum/page/3/'"
      ]
     },
     "execution_count": 5,
     "metadata": {},
     "output_type": "execute_result"
    }
   ],
   "source": [
    "# The URL of the third review page is:\n",
    "url_temp.format(page_num = 3)"
   ]
  },
  {
   "cell_type": "markdown",
   "metadata": {},
   "source": [
    "For simplicity, we'll only collect pages 1-10 of forum threads. Thus we create a DataFrame with 10 elements."
   ]
  },
  {
   "cell_type": "code",
   "execution_count": 6,
   "metadata": {
    "scrolled": true
   },
   "outputs": [
    {
     "data": {
      "text/html": [
       "<div>\n",
       "<style scoped>\n",
       "    .dataframe tbody tr th:only-of-type {\n",
       "        vertical-align: middle;\n",
       "    }\n",
       "\n",
       "    .dataframe tbody tr th {\n",
       "        vertical-align: top;\n",
       "    }\n",
       "\n",
       "    .dataframe thead th {\n",
       "        text-align: right;\n",
       "    }\n",
       "</style>\n",
       "<table border=\"1\" class=\"dataframe\">\n",
       "  <thead>\n",
       "    <tr style=\"text-align: right;\">\n",
       "      <th></th>\n",
       "      <th>Page</th>\n",
       "    </tr>\n",
       "  </thead>\n",
       "  <tbody>\n",
       "    <tr>\n",
       "      <th>0</th>\n",
       "      <td>1</td>\n",
       "    </tr>\n",
       "    <tr>\n",
       "      <th>1</th>\n",
       "      <td>2</td>\n",
       "    </tr>\n",
       "    <tr>\n",
       "      <th>2</th>\n",
       "      <td>3</td>\n",
       "    </tr>\n",
       "    <tr>\n",
       "      <th>3</th>\n",
       "      <td>4</td>\n",
       "    </tr>\n",
       "    <tr>\n",
       "      <th>4</th>\n",
       "      <td>5</td>\n",
       "    </tr>\n",
       "    <tr>\n",
       "      <th>5</th>\n",
       "      <td>6</td>\n",
       "    </tr>\n",
       "    <tr>\n",
       "      <th>6</th>\n",
       "      <td>7</td>\n",
       "    </tr>\n",
       "    <tr>\n",
       "      <th>7</th>\n",
       "      <td>8</td>\n",
       "    </tr>\n",
       "    <tr>\n",
       "      <th>8</th>\n",
       "      <td>9</td>\n",
       "    </tr>\n",
       "    <tr>\n",
       "      <th>9</th>\n",
       "      <td>10</td>\n",
       "    </tr>\n",
       "  </tbody>\n",
       "</table>\n",
       "</div>"
      ],
      "text/plain": [
       "   Page\n",
       "0     1\n",
       "1     2\n",
       "2     3\n",
       "3     4\n",
       "4     5\n",
       "5     6\n",
       "6     7\n",
       "7     8\n",
       "8     9\n",
       "9    10"
      ]
     },
     "execution_count": 6,
     "metadata": {},
     "output_type": "execute_result"
    }
   ],
   "source": [
    "df = pd.DataFrame({'Page':range(1,11)})\n",
    "df"
   ]
  },
  {
   "cell_type": "code",
   "execution_count": 7,
   "metadata": {
    "scrolled": false
   },
   "outputs": [
    {
     "data": {
      "text/html": [
       "<div>\n",
       "<style scoped>\n",
       "    .dataframe tbody tr th:only-of-type {\n",
       "        vertical-align: middle;\n",
       "    }\n",
       "\n",
       "    .dataframe tbody tr th {\n",
       "        vertical-align: top;\n",
       "    }\n",
       "\n",
       "    .dataframe thead th {\n",
       "        text-align: right;\n",
       "    }\n",
       "</style>\n",
       "<table border=\"1\" class=\"dataframe\">\n",
       "  <thead>\n",
       "    <tr style=\"text-align: right;\">\n",
       "      <th></th>\n",
       "      <th>Page</th>\n",
       "      <th>PageURL</th>\n",
       "    </tr>\n",
       "  </thead>\n",
       "  <tbody>\n",
       "    <tr>\n",
       "      <th>0</th>\n",
       "      <td>1</td>\n",
       "      <td>https://www.vgr.com/forum/forum/37-gaming-foru...</td>\n",
       "    </tr>\n",
       "    <tr>\n",
       "      <th>1</th>\n",
       "      <td>2</td>\n",
       "      <td>https://www.vgr.com/forum/forum/37-gaming-foru...</td>\n",
       "    </tr>\n",
       "    <tr>\n",
       "      <th>2</th>\n",
       "      <td>3</td>\n",
       "      <td>https://www.vgr.com/forum/forum/37-gaming-foru...</td>\n",
       "    </tr>\n",
       "    <tr>\n",
       "      <th>3</th>\n",
       "      <td>4</td>\n",
       "      <td>https://www.vgr.com/forum/forum/37-gaming-foru...</td>\n",
       "    </tr>\n",
       "    <tr>\n",
       "      <th>4</th>\n",
       "      <td>5</td>\n",
       "      <td>https://www.vgr.com/forum/forum/37-gaming-foru...</td>\n",
       "    </tr>\n",
       "    <tr>\n",
       "      <th>5</th>\n",
       "      <td>6</td>\n",
       "      <td>https://www.vgr.com/forum/forum/37-gaming-foru...</td>\n",
       "    </tr>\n",
       "    <tr>\n",
       "      <th>6</th>\n",
       "      <td>7</td>\n",
       "      <td>https://www.vgr.com/forum/forum/37-gaming-foru...</td>\n",
       "    </tr>\n",
       "    <tr>\n",
       "      <th>7</th>\n",
       "      <td>8</td>\n",
       "      <td>https://www.vgr.com/forum/forum/37-gaming-foru...</td>\n",
       "    </tr>\n",
       "    <tr>\n",
       "      <th>8</th>\n",
       "      <td>9</td>\n",
       "      <td>https://www.vgr.com/forum/forum/37-gaming-foru...</td>\n",
       "    </tr>\n",
       "    <tr>\n",
       "      <th>9</th>\n",
       "      <td>10</td>\n",
       "      <td>https://www.vgr.com/forum/forum/37-gaming-foru...</td>\n",
       "    </tr>\n",
       "  </tbody>\n",
       "</table>\n",
       "</div>"
      ],
      "text/plain": [
       "   Page                                            PageURL\n",
       "0     1  https://www.vgr.com/forum/forum/37-gaming-foru...\n",
       "1     2  https://www.vgr.com/forum/forum/37-gaming-foru...\n",
       "2     3  https://www.vgr.com/forum/forum/37-gaming-foru...\n",
       "3     4  https://www.vgr.com/forum/forum/37-gaming-foru...\n",
       "4     5  https://www.vgr.com/forum/forum/37-gaming-foru...\n",
       "5     6  https://www.vgr.com/forum/forum/37-gaming-foru...\n",
       "6     7  https://www.vgr.com/forum/forum/37-gaming-foru...\n",
       "7     8  https://www.vgr.com/forum/forum/37-gaming-foru...\n",
       "8     9  https://www.vgr.com/forum/forum/37-gaming-foru...\n",
       "9    10  https://www.vgr.com/forum/forum/37-gaming-foru..."
      ]
     },
     "execution_count": 7,
     "metadata": {},
     "output_type": "execute_result"
    }
   ],
   "source": [
    "# Add PageURL column\n",
    "df['PageURL'] = [url_temp.format(page_num = i + 1) for i in range(0,len(df))]\n",
    "\n",
    "df"
   ]
  },
  {
   "cell_type": "code",
   "execution_count": 8,
   "metadata": {},
   "outputs": [
    {
     "data": {
      "text/plain": [
       "'https://www.vgr.com/forum/forum/37-gaming-forum/page/1/'"
      ]
     },
     "execution_count": 8,
     "metadata": {},
     "output_type": "execute_result"
    }
   ],
   "source": [
    "# Check the URL of the 1st page\n",
    "df.loc[0,'PageURL']"
   ]
  },
  {
   "cell_type": "markdown",
   "metadata": {},
   "source": [
    "# 2. Download HTML Files"
   ]
  },
  {
   "cell_type": "code",
   "execution_count": 9,
   "metadata": {
    "scrolled": true
   },
   "outputs": [
    {
     "data": {
      "text/html": [
       "<div>\n",
       "<style scoped>\n",
       "    .dataframe tbody tr th:only-of-type {\n",
       "        vertical-align: middle;\n",
       "    }\n",
       "\n",
       "    .dataframe tbody tr th {\n",
       "        vertical-align: top;\n",
       "    }\n",
       "\n",
       "    .dataframe thead th {\n",
       "        text-align: right;\n",
       "    }\n",
       "</style>\n",
       "<table border=\"1\" class=\"dataframe\">\n",
       "  <thead>\n",
       "    <tr style=\"text-align: right;\">\n",
       "      <th></th>\n",
       "      <th>Page</th>\n",
       "      <th>PageURL</th>\n",
       "      <th>HTML</th>\n",
       "    </tr>\n",
       "  </thead>\n",
       "  <tbody>\n",
       "    <tr>\n",
       "      <th>0</th>\n",
       "      <td>1</td>\n",
       "      <td>https://www.vgr.com/forum/forum/37-gaming-foru...</td>\n",
       "      <td>b'&lt;!DOCTYPE html&gt;\\n&lt;html lang=\"en-US\" dir=\"ltr...</td>\n",
       "    </tr>\n",
       "    <tr>\n",
       "      <th>1</th>\n",
       "      <td>2</td>\n",
       "      <td>https://www.vgr.com/forum/forum/37-gaming-foru...</td>\n",
       "      <td>b'&lt;!DOCTYPE html&gt;\\n&lt;html lang=\"en-US\" dir=\"ltr...</td>\n",
       "    </tr>\n",
       "    <tr>\n",
       "      <th>2</th>\n",
       "      <td>3</td>\n",
       "      <td>https://www.vgr.com/forum/forum/37-gaming-foru...</td>\n",
       "      <td>b'&lt;!DOCTYPE html&gt;\\n&lt;html lang=\"en-US\" dir=\"ltr...</td>\n",
       "    </tr>\n",
       "    <tr>\n",
       "      <th>3</th>\n",
       "      <td>4</td>\n",
       "      <td>https://www.vgr.com/forum/forum/37-gaming-foru...</td>\n",
       "      <td>b'&lt;!DOCTYPE html&gt;\\n&lt;html lang=\"en-US\" dir=\"ltr...</td>\n",
       "    </tr>\n",
       "    <tr>\n",
       "      <th>4</th>\n",
       "      <td>5</td>\n",
       "      <td>https://www.vgr.com/forum/forum/37-gaming-foru...</td>\n",
       "      <td>b'&lt;!DOCTYPE html&gt;\\n&lt;html lang=\"en-US\" dir=\"ltr...</td>\n",
       "    </tr>\n",
       "    <tr>\n",
       "      <th>5</th>\n",
       "      <td>6</td>\n",
       "      <td>https://www.vgr.com/forum/forum/37-gaming-foru...</td>\n",
       "      <td>b'&lt;!DOCTYPE html&gt;\\n&lt;html lang=\"en-US\" dir=\"ltr...</td>\n",
       "    </tr>\n",
       "    <tr>\n",
       "      <th>6</th>\n",
       "      <td>7</td>\n",
       "      <td>https://www.vgr.com/forum/forum/37-gaming-foru...</td>\n",
       "      <td>b'&lt;!DOCTYPE html&gt;\\n&lt;html lang=\"en-US\" dir=\"ltr...</td>\n",
       "    </tr>\n",
       "    <tr>\n",
       "      <th>7</th>\n",
       "      <td>8</td>\n",
       "      <td>https://www.vgr.com/forum/forum/37-gaming-foru...</td>\n",
       "      <td>b'&lt;!DOCTYPE html&gt;\\n&lt;html lang=\"en-US\" dir=\"ltr...</td>\n",
       "    </tr>\n",
       "    <tr>\n",
       "      <th>8</th>\n",
       "      <td>9</td>\n",
       "      <td>https://www.vgr.com/forum/forum/37-gaming-foru...</td>\n",
       "      <td>b'&lt;!DOCTYPE html&gt;\\n&lt;html lang=\"en-US\" dir=\"ltr...</td>\n",
       "    </tr>\n",
       "    <tr>\n",
       "      <th>9</th>\n",
       "      <td>10</td>\n",
       "      <td>https://www.vgr.com/forum/forum/37-gaming-foru...</td>\n",
       "      <td>b'&lt;!DOCTYPE html&gt;\\n&lt;html lang=\"en-US\" dir=\"ltr...</td>\n",
       "    </tr>\n",
       "  </tbody>\n",
       "</table>\n",
       "</div>"
      ],
      "text/plain": [
       "   Page                                            PageURL  \\\n",
       "0     1  https://www.vgr.com/forum/forum/37-gaming-foru...   \n",
       "1     2  https://www.vgr.com/forum/forum/37-gaming-foru...   \n",
       "2     3  https://www.vgr.com/forum/forum/37-gaming-foru...   \n",
       "3     4  https://www.vgr.com/forum/forum/37-gaming-foru...   \n",
       "4     5  https://www.vgr.com/forum/forum/37-gaming-foru...   \n",
       "5     6  https://www.vgr.com/forum/forum/37-gaming-foru...   \n",
       "6     7  https://www.vgr.com/forum/forum/37-gaming-foru...   \n",
       "7     8  https://www.vgr.com/forum/forum/37-gaming-foru...   \n",
       "8     9  https://www.vgr.com/forum/forum/37-gaming-foru...   \n",
       "9    10  https://www.vgr.com/forum/forum/37-gaming-foru...   \n",
       "\n",
       "                                                HTML  \n",
       "0  b'<!DOCTYPE html>\\n<html lang=\"en-US\" dir=\"ltr...  \n",
       "1  b'<!DOCTYPE html>\\n<html lang=\"en-US\" dir=\"ltr...  \n",
       "2  b'<!DOCTYPE html>\\n<html lang=\"en-US\" dir=\"ltr...  \n",
       "3  b'<!DOCTYPE html>\\n<html lang=\"en-US\" dir=\"ltr...  \n",
       "4  b'<!DOCTYPE html>\\n<html lang=\"en-US\" dir=\"ltr...  \n",
       "5  b'<!DOCTYPE html>\\n<html lang=\"en-US\" dir=\"ltr...  \n",
       "6  b'<!DOCTYPE html>\\n<html lang=\"en-US\" dir=\"ltr...  \n",
       "7  b'<!DOCTYPE html>\\n<html lang=\"en-US\" dir=\"ltr...  \n",
       "8  b'<!DOCTYPE html>\\n<html lang=\"en-US\" dir=\"ltr...  \n",
       "9  b'<!DOCTYPE html>\\n<html lang=\"en-US\" dir=\"ltr...  "
      ]
     },
     "execution_count": 9,
     "metadata": {},
     "output_type": "execute_result"
    }
   ],
   "source": [
    "# Create a new column to store HTML files\n",
    "\n",
    "df['HTML'] = [requests.get(df.loc[i,'PageURL']).content for i in range(0,len(df))]\n",
    "\n",
    "df"
   ]
  },
  {
   "cell_type": "markdown",
   "metadata": {},
   "source": [
    "# 3. Utlizing BeautifulSoup Methods for HTML Element Extraction\n",
    "\n",
    "BeautifulSoup methods to extract key elements on the first page."
   ]
  },
  {
   "cell_type": "code",
   "execution_count": 10,
   "metadata": {},
   "outputs": [],
   "source": [
    "# Use BeautifulSoup to parse the 1st page\n",
    "soup = BeautifulSoup(df.loc[0,'HTML'],'html')"
   ]
  },
  {
   "cell_type": "code",
   "execution_count": 11,
   "metadata": {
    "scrolled": false
   },
   "outputs": [
    {
     "name": "stdout",
     "output_type": "stream",
     "text": [
      "<li class=\"ipsDataItem ipsDataItem_responsivePhoto\" data-rowid=\"62\">\n",
      " <div class=\"ipsDataItem_main\">\n",
      "  <h4 class=\"ipsDataItem_title ipsContained_container\">\n",
      "   <span>\n",
      "    <span class=\"ipsBadge ipsBadge_icon ipsBadge_small ipsBadge_positive\" data-ipstooltip=\"\" title=\"Pinned\">\n",
      "     <i class=\"fa fa-thumb-tack\">\n",
      "     </i>\n",
      "    </span>\n",
      "   </span>\n",
      "   <span class=\"ipsType_break ipsContained\">\n",
      "    <a class=\"\" data-ipshover=\"\" data-ipshover-target=\"https://www.vgr.com/forum/topic/62-general-gaming-discussion/?preview=1\" data-ipshover-timeout=\"1.5\" href=\"https://www.vgr.com/forum/topic/62-general-gaming-discussion/\" title=\"General Gaming Discussion \">\n",
      "     <span>\n",
      "      General Gaming Discussion\n",
      "     </span>\n",
      "    </a>\n",
      "   </span>\n",
      "   <span class=\"ipsPagination ipsPagination_mini\" id=\"elPagination_9be71c4bcab6b44c262b98b1a692f553\">\n",
      "    <span class=\"ipsPagination_page\">\n",
      "     <a data-ipstooltip=\"\" href=\"https://www.vgr.com/forum/topic/62-general-gaming-discussion/#comments\" title=\"Go to page 1\">\n",
      "      1\n",
      "     </a>\n",
      "    </span>\n",
      "    <span class=\"ipsPagination_page\">\n",
      "     <a data-ipstooltip=\"\" href=\"https://www.vgr.com/forum/topic/62-general-gaming-discussion/page/2/#comments\" title=\"Go to page 2\">\n",
      "      2\n",
      "     </a>\n",
      "    </span>\n",
      "    <span class=\"ipsPagination_page\">\n",
      "     <a data-ipstooltip=\"\" href=\"https://www.vgr.com/forum/topic/62-general-gaming-discussion/page/3/#comments\" title=\"Go to page 3\">\n",
      "      3\n",
      "     </a>\n",
      "    </span>\n",
      "    <span class=\"ipsPagination_page\">\n",
      "     <a data-ipstooltip=\"\" href=\"https://www.vgr.com/forum/topic/62-general-gaming-discussion/page/4/#comments\" title=\"Go to page 4\">\n",
      "      4\n",
      "     </a>\n",
      "    </span>\n",
      "    <span class=\"ipsPagination_last\">\n",
      "     <a data-ipstooltip=\"\" href=\"https://www.vgr.com/forum/topic/62-general-gaming-discussion/page/40/#comments\" title=\"Last page\">\n",
      "      40\n",
      "      <i class=\"fa fa-caret-right\">\n",
      "      </i>\n",
      "     </a>\n",
      "    </span>\n",
      "   </span>\n",
      "  </h4>\n",
      "  <div class=\"ipsDataItem_meta ipsType_reset ipsType_light ipsType_blendLinks\">\n",
      "   <span>\n",
      "    By\n",
      "    <a class=\"ipsType_break\" data-ipshover=\"\" data-ipshover-target=\"https://www.vgr.com/forum/profile/1-dc/?do=hovercard&amp;referrer=https%253A%252F%252Fwww.vgr.com%252Fforum%252Fforum%252F37-gaming-forum%252Fpage%252F1%252F\" data-ipshover-width=\"370\" href=\"https://www.vgr.com/forum/profile/1-dc/\" rel=\"nofollow\" title=\"Go to DC's profile\">\n",
      "     DC\n",
      "    </a>\n",
      "    ,\n",
      "   </span>\n",
      "   <time data-short=\"4 yr\" datetime=\"2018-07-13T02:39:03Z\" title=\"07/13/2018 02:39  AM\">\n",
      "    July 13, 2018\n",
      "   </time>\n",
      "  </div>\n",
      " </div>\n",
      " <ul class=\"ipsDataItem_stats\">\n",
      "  <li>\n",
      "   <span class=\"ipsDataItem_stats_number\">\n",
      "    590\n",
      "   </span>\n",
      "   <span class=\"ipsDataItem_stats_type\">\n",
      "    replies\n",
      "   </span>\n",
      "  </li>\n",
      "  <li class=\"ipsType_light\">\n",
      "   <span class=\"ipsDataItem_stats_number\">\n",
      "    25.4k\n",
      "   </span>\n",
      "   <span class=\"ipsDataItem_stats_type\">\n",
      "    views\n",
      "   </span>\n",
      "  </li>\n",
      " </ul>\n",
      " <ul class=\"ipsDataItem_lastPoster ipsDataItem_withPhoto ipsType_blendLinks\">\n",
      "  <li>\n",
      "   <a class=\"ipsUserPhoto ipsUserPhoto_tiny\" data-ipshover=\"\" data-ipshover-target=\"https://www.vgr.com/forum/profile/9419-shagger/?do=hovercard\" data-ipshover-width=\"370\" href=\"https://www.vgr.com/forum/profile/9419-shagger/\" rel=\"nofollow\" title=\"Go to Shagger's profile\">\n",
      "    <img alt=\"Shagger\" loading=\"lazy\" src=\"https://www.vgr.com/forum/uploads/monthly_2021_11/avatar-the-last-airbender-fire.thumb.gif.0d156260a4c70d53ba2e76fae5b1dfad.gif\"/>\n",
      "   </a>\n",
      "  </li>\n",
      "  <li>\n",
      "   <a class=\"ipsType_break\" data-ipshover=\"\" data-ipshover-target=\"https://www.vgr.com/forum/profile/9419-shagger/?do=hovercard&amp;referrer=https%253A%252F%252Fwww.vgr.com%252Fforum%252Fforum%252F37-gaming-forum%252Fpage%252F1%252F\" data-ipshover-width=\"370\" href=\"https://www.vgr.com/forum/profile/9419-shagger/\" rel=\"nofollow\" title=\"Go to Shagger's profile\">\n",
      "    Shagger\n",
      "   </a>\n",
      "  </li>\n",
      "  <li class=\"ipsType_light\">\n",
      "   <a class=\"ipsType_blendLinks\" href=\"https://www.vgr.com/forum/topic/62-general-gaming-discussion/\" title=\"Go to last post\">\n",
      "    <time data-short=\"46 min\" datetime=\"2022-09-26T17:12:46Z\" title=\"09/26/2022 05:12  PM\">\n",
      "     46 minutes ago\n",
      "    </time>\n",
      "   </a>\n",
      "  </li>\n",
      " </ul>\n",
      "</li>\n",
      "\n"
     ]
    }
   ],
   "source": [
    "# Extract all 'li' tags\n",
    "li_all = soup.find_all('li', attrs={'class': 'ipsDataItem ipsDataItem_responsivePhoto'})\n",
    "\n",
    "# Print the content of the 1st li tag\n",
    "print(li_all[0].prettify())"
   ]
  },
  {
   "cell_type": "code",
   "execution_count": 12,
   "metadata": {},
   "outputs": [
    {
     "data": {
      "text/plain": [
       "['General Gaming Discussion',\n",
       " 'Last Game Played',\n",
       " '[Sponsored] Sneak Energy - the drink every gamer needs before a marathon',\n",
       " 'The Gaming Mod Thread',\n",
       " 'Share Your Streaming Channel and Videos in This Thread',\n",
       " 'Is gaming the best stress relief?',\n",
       " 'Tokyo Game Show 2022',\n",
       " \"Games you'd want to take with you to the grave\",\n",
       " 'Bloodborne recreated in Minecraft',\n",
       " 'gaming and our connection with others',\n",
       " 'Favourite Achievements/Trophies in Games?',\n",
       " 'What makes a video game location feel “real”?',\n",
       " 'How to recover from a bad character build',\n",
       " 'Have you ever hid things in your cart based games?',\n",
       " 'Who do you miss from gaming online?',\n",
       " 'Game plots with bad stories but great climaxes?',\n",
       " 'I need your help',\n",
       " 'Can anyone help me find a mobile game from like 2013?',\n",
       " 'Have Atari Games Aged Well?',\n",
       " 'Stray',\n",
       " 'Do you listen to video game soundtracks outside of gaming?',\n",
       " 'Gaming has gotten better this decade imo',\n",
       " \"What exclusives would you want most on a console you don't own?\",\n",
       " 'Most consistent gaming series?',\n",
       " 'What are your favourite gaming memories from the past?']"
      ]
     },
     "execution_count": 12,
     "metadata": {},
     "output_type": "execute_result"
    }
   ],
   "source": [
    "# Extract topic\n",
    "[x.find('span',{'class':'ipsType_break ipsContained'}).text.replace('\\n','') for x in li_all]"
   ]
  },
  {
   "cell_type": "code",
   "execution_count": 13,
   "metadata": {},
   "outputs": [
    {
     "data": {
      "text/plain": [
       "['https://www.vgr.com/forum/topic/62-general-gaming-discussion/',\n",
       " 'https://www.vgr.com/forum/topic/60-last-game-played/',\n",
       " 'https://www.vgr.com/forum/topic/15138-sponsored-sneak-energy-the-drink-every-gamer-needs-before-a-marathon/',\n",
       " 'https://www.vgr.com/forum/topic/10540-the-gaming-mod-thread/',\n",
       " 'https://www.vgr.com/forum/topic/14552-share-your-streaming-channel-and-videos-in-this-thread/',\n",
       " 'https://www.vgr.com/forum/topic/14865-is-gaming-the-best-stress-relief/',\n",
       " 'https://www.vgr.com/forum/topic/15134-tokyo-game-show-2022/',\n",
       " 'https://www.vgr.com/forum/topic/13134-games-youd-want-to-take-with-you-to-the-grave/',\n",
       " 'https://www.vgr.com/forum/topic/15202-bloodborne-recreated-in-minecraft/',\n",
       " 'https://www.vgr.com/forum/topic/15192-gaming-and-our-connection-with-others/',\n",
       " 'https://www.vgr.com/forum/topic/14862-favourite-achievementstrophies-in-games/',\n",
       " 'https://www.vgr.com/forum/topic/12969-what-makes-a-video-game-location-feel-%E2%80%9Creal%E2%80%9D/',\n",
       " 'https://www.vgr.com/forum/topic/13247-how-to-recover-from-a-bad-character-build/',\n",
       " 'https://www.vgr.com/forum/topic/13149-have-you-ever-hid-things-in-your-cart-based-games/',\n",
       " 'https://www.vgr.com/forum/topic/14885-who-do-you-miss-from-gaming-online/',\n",
       " 'https://www.vgr.com/forum/topic/15020-game-plots-with-bad-stories-but-great-climaxes/',\n",
       " 'https://www.vgr.com/forum/topic/15207-i-need-your-help/',\n",
       " 'https://www.vgr.com/forum/topic/15194-can-anyone-help-me-find-a-mobile-game-from-like-2013/',\n",
       " 'https://www.vgr.com/forum/topic/15197-have-atari-games-aged-well/',\n",
       " 'https://www.vgr.com/forum/topic/11749-stray/',\n",
       " 'https://www.vgr.com/forum/topic/15142-do-you-listen-to-video-game-soundtracks-outside-of-gaming/',\n",
       " 'https://www.vgr.com/forum/topic/15189-gaming-has-gotten-better-this-decade-imo/',\n",
       " 'https://www.vgr.com/forum/topic/14909-what-exclusives-would-you-want-most-on-a-console-you-dont-own/',\n",
       " 'https://www.vgr.com/forum/topic/15186-most-consistent-gaming-series/',\n",
       " 'https://www.vgr.com/forum/topic/14900-what-are-your-favourite-gaming-memories-from-the-past/']"
      ]
     },
     "execution_count": 13,
     "metadata": {},
     "output_type": "execute_result"
    }
   ],
   "source": [
    "# Extract topic URL\n",
    "[x.find('span',{'class':'ipsType_break ipsContained'}).find('a')['href'] for x in li_all]"
   ]
  },
  {
   "cell_type": "code",
   "execution_count": 14,
   "metadata": {},
   "outputs": [
    {
     "data": {
      "text/plain": [
       "['DC',\n",
       " 'DC',\n",
       " 'DC',\n",
       " 'Shagger',\n",
       " 'DC',\n",
       " 'StaceyPowers',\n",
       " 'Kane99',\n",
       " 'Kane99',\n",
       " 'Kane99',\n",
       " 'runswithspatulas',\n",
       " 'Withywarlock',\n",
       " 'StaceyPowers',\n",
       " 'StaceyPowers',\n",
       " 'Kane99',\n",
       " 'StaceyPowers',\n",
       " 'NightmareFarm',\n",
       " 'Techno',\n",
       " 'StalkyBoi',\n",
       " 'Techno',\n",
       " 'StaceyPowers',\n",
       " 'Yaramaki',\n",
       " 'NightmareFarm',\n",
       " 'NightmareFarm',\n",
       " 'NightmareFarm',\n",
       " 'Kane99']"
      ]
     },
     "execution_count": 14,
     "metadata": {},
     "output_type": "execute_result"
    }
   ],
   "source": [
    "# Extract user\n",
    "[x.find('div',{'class':'ipsDataItem_meta ipsType_reset ipsType_light ipsType_blendLinks'})\\\n",
    " .find('a').text for x in li_all]"
   ]
  },
  {
   "cell_type": "code",
   "execution_count": 15,
   "metadata": {},
   "outputs": [
    {
     "data": {
      "text/plain": [
       "['2018-07-13T02:39:03Z',\n",
       " '2018-07-13T02:32:10Z',\n",
       " '2022-09-09T16:11:05Z',\n",
       " '2021-05-21T21:32:12Z',\n",
       " '2022-06-25T21:21:02Z',\n",
       " '2022-08-04T21:57:59Z',\n",
       " '2022-09-08T22:35:44Z',\n",
       " '2021-12-16T04:23:16Z',\n",
       " '2022-09-21T22:46:33Z',\n",
       " '2022-09-19T08:39:10Z',\n",
       " '2022-08-04T15:40:24Z',\n",
       " '2021-12-04T22:43:57Z',\n",
       " '2021-12-21T19:45:12Z',\n",
       " '2021-12-16T05:37:20Z',\n",
       " '2022-08-07T00:09:01Z',\n",
       " '2022-08-24T01:06:39Z',\n",
       " '2022-09-22T01:56:28Z',\n",
       " '2022-09-20T04:35:34Z',\n",
       " '2022-09-20T17:06:59Z',\n",
       " '2021-08-26T20:50:21Z',\n",
       " '2022-09-11T14:31:38Z',\n",
       " '2022-09-18T06:52:48Z',\n",
       " '2022-08-11T16:23:59Z',\n",
       " '2022-09-17T08:33:06Z',\n",
       " '2022-08-09T21:38:16Z']"
      ]
     },
     "execution_count": 15,
     "metadata": {},
     "output_type": "execute_result"
    }
   ],
   "source": [
    "# Extract date time\n",
    "[x.find('div',{'class':'ipsDataItem_meta ipsType_reset ipsType_light ipsType_blendLinks'})\\\n",
    " .find('time')['datetime'] for x in li_all]"
   ]
  },
  {
   "cell_type": "code",
   "execution_count": 16,
   "metadata": {},
   "outputs": [
    {
     "data": {
      "text/plain": [
       "['590',\n",
       " '4.1k',\n",
       " '29',\n",
       " '58',\n",
       " '15',\n",
       " '23',\n",
       " '24',\n",
       " '14',\n",
       " '3',\n",
       " '15',\n",
       " '16',\n",
       " '16',\n",
       " '14',\n",
       " '12',\n",
       " '10',\n",
       " '29',\n",
       " '3',\n",
       " '12',\n",
       " '4',\n",
       " '61',\n",
       " '17',\n",
       " '17',\n",
       " '35',\n",
       " '22',\n",
       " '58']"
      ]
     },
     "execution_count": 16,
     "metadata": {},
     "output_type": "execute_result"
    }
   ],
   "source": [
    "# Extract the numbe of replies\n",
    "[x.find_all('span',{'class':'ipsDataItem_stats_number'})[0].text for x in li_all]"
   ]
  },
  {
   "cell_type": "code",
   "execution_count": 17,
   "metadata": {},
   "outputs": [
    {
     "data": {
      "text/plain": [
       "['25.4k',\n",
       " '334.3k',\n",
       " '1.4k',\n",
       " '12.2k',\n",
       " '2.5k',\n",
       " '502',\n",
       " '950',\n",
       " '382',\n",
       " '160',\n",
       " '327',\n",
       " '395',\n",
       " '514',\n",
       " '419',\n",
       " '428',\n",
       " '288',\n",
       " '804',\n",
       " '177',\n",
       " '226',\n",
       " '188',\n",
       " '2.1k',\n",
       " '510',\n",
       " '445',\n",
       " '1.2k',\n",
       " '468',\n",
       " '1.8k']"
      ]
     },
     "execution_count": 17,
     "metadata": {},
     "output_type": "execute_result"
    }
   ],
   "source": [
    "# Extract the numbe of views\n",
    "[x.find_all('span',{'class':'ipsDataItem_stats_number'})[1].text for x in li_all]"
   ]
  },
  {
   "cell_type": "markdown",
   "metadata": {},
   "source": [
    "# 4. Parse HTML Elements into Master DataSet"
   ]
  },
  {
   "cell_type": "code",
   "execution_count": 18,
   "metadata": {},
   "outputs": [],
   "source": [
    "# Create a null master DataFrame\n",
    "df_master = pd.DataFrame()"
   ]
  },
  {
   "cell_type": "code",
   "execution_count": 19,
   "metadata": {},
   "outputs": [],
   "source": [
    "for i in range(0,len(df)):\n",
    "    # Parse HTTP Response to BeautifulSoup\n",
    "    soup = BeautifulSoup(df.loc[i,'HTML'],'html')\n",
    "    \n",
    "    # Find li tags\n",
    "    li_all = soup.find_all('li', attrs={'class': 'ipsDataItem ipsDataItem_responsivePhoto'})\n",
    "    \n",
    "    # Extract topic title\n",
    "    topic = [x.find('span',{'class':'ipsType_break ipsContained'}).text.replace('\\n','') for x in li_all]\n",
    "    \n",
    "    # Extract topic URL\n",
    "    topic_url = [x.find('span',{'class':'ipsType_break ipsContained'}).find('a')['href'] for x in li_all]\n",
    "    \n",
    "    # Extract user\n",
    "    user = [x.find('div',{'class':'ipsDataItem_meta ipsType_reset ipsType_light ipsType_blendLinks'})\\\n",
    "            .find('a').text for x in li_all]\n",
    "    \n",
    "    # Extract date time \n",
    "    time = [x.find('div',{'class':'ipsDataItem_meta ipsType_reset ipsType_light ipsType_blendLinks'})\\\n",
    "            .find('time')['datetime'] for x in li_all]\n",
    "\n",
    "    # Extract # of replies\n",
    "    replies = [x.find_all('span',{'class':'ipsDataItem_stats_number'})[0].text for x in li_all]\n",
    "    \n",
    "    # Extract # of view\n",
    "    views = [x.find_all('span',{'class':'ipsDataItem_stats_number'})[1].text for x in li_all]\n",
    "    \n",
    "    # Combine all lists into a temp DataFrame\n",
    "    df_temp = pd.DataFrame({'TopicTitle':topic,\n",
    "                            'TopicURL': topic_url,\n",
    "                            'User':user,\n",
    "                            'Time':time,\n",
    "                            'NumOfReplies':replies,\n",
    "                            'NumOfViews':views})\n",
    "    \n",
    "    # Concatenate the temp DataFrame into master DataFrame\n",
    "    df_master = pd.concat([df_master,df_temp])"
   ]
  },
  {
   "cell_type": "code",
   "execution_count": 20,
   "metadata": {
    "scrolled": true
   },
   "outputs": [
    {
     "data": {
      "text/plain": [
       "(250, 6)"
      ]
     },
     "execution_count": 20,
     "metadata": {},
     "output_type": "execute_result"
    }
   ],
   "source": [
    "df_master.shape"
   ]
  },
  {
   "cell_type": "code",
   "execution_count": 21,
   "metadata": {},
   "outputs": [
    {
     "data": {
      "text/html": [
       "<div>\n",
       "<style scoped>\n",
       "    .dataframe tbody tr th:only-of-type {\n",
       "        vertical-align: middle;\n",
       "    }\n",
       "\n",
       "    .dataframe tbody tr th {\n",
       "        vertical-align: top;\n",
       "    }\n",
       "\n",
       "    .dataframe thead th {\n",
       "        text-align: right;\n",
       "    }\n",
       "</style>\n",
       "<table border=\"1\" class=\"dataframe\">\n",
       "  <thead>\n",
       "    <tr style=\"text-align: right;\">\n",
       "      <th></th>\n",
       "      <th>TopicTitle</th>\n",
       "      <th>TopicURL</th>\n",
       "      <th>User</th>\n",
       "      <th>Time</th>\n",
       "      <th>NumOfReplies</th>\n",
       "      <th>NumOfViews</th>\n",
       "    </tr>\n",
       "  </thead>\n",
       "  <tbody>\n",
       "    <tr>\n",
       "      <th>0</th>\n",
       "      <td>General Gaming Discussion</td>\n",
       "      <td>https://www.vgr.com/forum/topic/62-general-gam...</td>\n",
       "      <td>DC</td>\n",
       "      <td>2018-07-13T02:39:03Z</td>\n",
       "      <td>590</td>\n",
       "      <td>25.4k</td>\n",
       "    </tr>\n",
       "    <tr>\n",
       "      <th>1</th>\n",
       "      <td>Last Game Played</td>\n",
       "      <td>https://www.vgr.com/forum/topic/60-last-game-p...</td>\n",
       "      <td>DC</td>\n",
       "      <td>2018-07-13T02:32:10Z</td>\n",
       "      <td>4.1k</td>\n",
       "      <td>334.3k</td>\n",
       "    </tr>\n",
       "    <tr>\n",
       "      <th>2</th>\n",
       "      <td>[Sponsored] Sneak Energy - the drink every gam...</td>\n",
       "      <td>https://www.vgr.com/forum/topic/15138-sponsore...</td>\n",
       "      <td>DC</td>\n",
       "      <td>2022-09-09T16:11:05Z</td>\n",
       "      <td>29</td>\n",
       "      <td>1.4k</td>\n",
       "    </tr>\n",
       "    <tr>\n",
       "      <th>3</th>\n",
       "      <td>The Gaming Mod Thread</td>\n",
       "      <td>https://www.vgr.com/forum/topic/10540-the-gami...</td>\n",
       "      <td>Shagger</td>\n",
       "      <td>2021-05-21T21:32:12Z</td>\n",
       "      <td>58</td>\n",
       "      <td>12.2k</td>\n",
       "    </tr>\n",
       "    <tr>\n",
       "      <th>4</th>\n",
       "      <td>Share Your Streaming Channel and Videos in Thi...</td>\n",
       "      <td>https://www.vgr.com/forum/topic/14552-share-yo...</td>\n",
       "      <td>DC</td>\n",
       "      <td>2022-06-25T21:21:02Z</td>\n",
       "      <td>15</td>\n",
       "      <td>2.5k</td>\n",
       "    </tr>\n",
       "  </tbody>\n",
       "</table>\n",
       "</div>"
      ],
      "text/plain": [
       "                                          TopicTitle  \\\n",
       "0                          General Gaming Discussion   \n",
       "1                                   Last Game Played   \n",
       "2  [Sponsored] Sneak Energy - the drink every gam...   \n",
       "3                              The Gaming Mod Thread   \n",
       "4  Share Your Streaming Channel and Videos in Thi...   \n",
       "\n",
       "                                            TopicURL     User  \\\n",
       "0  https://www.vgr.com/forum/topic/62-general-gam...       DC   \n",
       "1  https://www.vgr.com/forum/topic/60-last-game-p...       DC   \n",
       "2  https://www.vgr.com/forum/topic/15138-sponsore...       DC   \n",
       "3  https://www.vgr.com/forum/topic/10540-the-gami...  Shagger   \n",
       "4  https://www.vgr.com/forum/topic/14552-share-yo...       DC   \n",
       "\n",
       "                   Time NumOfReplies NumOfViews  \n",
       "0  2018-07-13T02:39:03Z          590      25.4k  \n",
       "1  2018-07-13T02:32:10Z         4.1k     334.3k  \n",
       "2  2022-09-09T16:11:05Z           29       1.4k  \n",
       "3  2021-05-21T21:32:12Z           58      12.2k  \n",
       "4  2022-06-25T21:21:02Z           15       2.5k  "
      ]
     },
     "execution_count": 21,
     "metadata": {},
     "output_type": "execute_result"
    }
   ],
   "source": [
    "df_master.head()"
   ]
  },
  {
   "cell_type": "code",
   "execution_count": 22,
   "metadata": {},
   "outputs": [
    {
     "data": {
      "text/plain": [
       "TopicTitle      object\n",
       "TopicURL        object\n",
       "User            object\n",
       "Time            object\n",
       "NumOfReplies    object\n",
       "NumOfViews      object\n",
       "dtype: object"
      ]
     },
     "execution_count": 22,
     "metadata": {},
     "output_type": "execute_result"
    }
   ],
   "source": [
    "# Check the data type\n",
    "df_master.dtypes"
   ]
  },
  {
   "cell_type": "code",
   "execution_count": 23,
   "metadata": {},
   "outputs": [
    {
     "data": {
      "text/html": [
       "<div>\n",
       "<style scoped>\n",
       "    .dataframe tbody tr th:only-of-type {\n",
       "        vertical-align: middle;\n",
       "    }\n",
       "\n",
       "    .dataframe tbody tr th {\n",
       "        vertical-align: top;\n",
       "    }\n",
       "\n",
       "    .dataframe thead th {\n",
       "        text-align: right;\n",
       "    }\n",
       "</style>\n",
       "<table border=\"1\" class=\"dataframe\">\n",
       "  <thead>\n",
       "    <tr style=\"text-align: right;\">\n",
       "      <th></th>\n",
       "      <th>TopicTitle</th>\n",
       "      <th>TopicURL</th>\n",
       "      <th>User</th>\n",
       "      <th>Time</th>\n",
       "      <th>NumOfReplies</th>\n",
       "      <th>NumOfViews</th>\n",
       "    </tr>\n",
       "  </thead>\n",
       "  <tbody>\n",
       "    <tr>\n",
       "      <th>count</th>\n",
       "      <td>250</td>\n",
       "      <td>250</td>\n",
       "      <td>250</td>\n",
       "      <td>250</td>\n",
       "      <td>250</td>\n",
       "      <td>250</td>\n",
       "    </tr>\n",
       "    <tr>\n",
       "      <th>unique</th>\n",
       "      <td>250</td>\n",
       "      <td>250</td>\n",
       "      <td>31</td>\n",
       "      <td>250</td>\n",
       "      <td>72</td>\n",
       "      <td>197</td>\n",
       "    </tr>\n",
       "    <tr>\n",
       "      <th>top</th>\n",
       "      <td>General Gaming Discussion</td>\n",
       "      <td>https://www.vgr.com/forum/topic/62-general-gam...</td>\n",
       "      <td>StaceyPowers</td>\n",
       "      <td>2018-07-13T02:39:03Z</td>\n",
       "      <td>12</td>\n",
       "      <td>1.8k</td>\n",
       "    </tr>\n",
       "    <tr>\n",
       "      <th>freq</th>\n",
       "      <td>1</td>\n",
       "      <td>1</td>\n",
       "      <td>112</td>\n",
       "      <td>1</td>\n",
       "      <td>13</td>\n",
       "      <td>6</td>\n",
       "    </tr>\n",
       "  </tbody>\n",
       "</table>\n",
       "</div>"
      ],
      "text/plain": [
       "                       TopicTitle  \\\n",
       "count                         250   \n",
       "unique                        250   \n",
       "top     General Gaming Discussion   \n",
       "freq                            1   \n",
       "\n",
       "                                                 TopicURL          User  \\\n",
       "count                                                 250           250   \n",
       "unique                                                250            31   \n",
       "top     https://www.vgr.com/forum/topic/62-general-gam...  StaceyPowers   \n",
       "freq                                                    1           112   \n",
       "\n",
       "                        Time NumOfReplies NumOfViews  \n",
       "count                    250          250        250  \n",
       "unique                   250           72        197  \n",
       "top     2018-07-13T02:39:03Z           12       1.8k  \n",
       "freq                       1           13          6  "
      ]
     },
     "execution_count": 23,
     "metadata": {},
     "output_type": "execute_result"
    }
   ],
   "source": [
    "# Show descriptive statistics\n",
    "df_master.describe()"
   ]
  },
  {
   "cell_type": "code",
   "execution_count": 24,
   "metadata": {},
   "outputs": [
    {
     "data": {
      "text/plain": [
       "31"
      ]
     },
     "execution_count": 24,
     "metadata": {},
     "output_type": "execute_result"
    }
   ],
   "source": [
    "# The number of distinct authors in the dataset\n",
    "len(df_master['User'].unique())"
   ]
  },
  {
   "cell_type": "markdown",
   "metadata": {},
  },
  {
   "cell_type": "markdown",
   "metadata": {},
  },
  {
   "cell_type": "code",
   "execution_count": 25,
   "metadata": {},
   "outputs": [
    {
     "name": "stdout",
     "output_type": "stream",
     "text": [
      "<class 'pandas.core.frame.DataFrame'>\n",
      "Int64Index: 250 entries, 0 to 24\n",
      "Data columns (total 6 columns):\n",
      " #   Column        Non-Null Count  Dtype \n",
      "---  ------        --------------  ----- \n",
      " 0   TopicTitle    250 non-null    object\n",
      " 1   TopicURL      250 non-null    object\n",
      " 2   User          250 non-null    object\n",
      " 3   Time          250 non-null    object\n",
      " 4   NumOfReplies  250 non-null    object\n",
      " 5   NumOfViews    250 non-null    object\n",
      "dtypes: object(6)\n",
      "memory usage: 13.7+ KB\n"
     ]
    }
   ],
   "source": [
    "df_master.info()"
   ]
  },
  {
   "cell_type": "markdown",
   "metadata": {},
   "source": [
    "There are some index numbers duplicated due to the pd.concat() method in the for loop (see above). Reset the index to prevent issues."
   ]
  },
  {
   "cell_type": "code",
   "execution_count": 26,
   "metadata": {},
   "outputs": [],
   "source": [
    "df_master.index = range(len(df_master.index))"
   ]
  },
  {
   "cell_type": "code",
   "execution_count": 27,
   "metadata": {},
   "outputs": [
    {
     "name": "stdout",
     "output_type": "stream",
     "text": [
      "<class 'pandas.core.frame.DataFrame'>\n",
      "RangeIndex: 250 entries, 0 to 249\n",
      "Data columns (total 6 columns):\n",
      " #   Column        Non-Null Count  Dtype \n",
      "---  ------        --------------  ----- \n",
      " 0   TopicTitle    250 non-null    object\n",
      " 1   TopicURL      250 non-null    object\n",
      " 2   User          250 non-null    object\n",
      " 3   Time          250 non-null    object\n",
      " 4   NumOfReplies  250 non-null    object\n",
      " 5   NumOfViews    250 non-null    object\n",
      "dtypes: object(6)\n",
      "memory usage: 11.8+ KB\n"
     ]
    }
   ],
   "source": [
    "df_master.info()"
   ]
  },
  {
   "cell_type": "markdown",
   "metadata": {},
   "source": [
    "The index has been updated from 0 to 99."
   ]
  },
  {
   "cell_type": "code",
   "execution_count": 28,
   "metadata": {},
   "outputs": [
    {
     "data": {
      "text/html": [
       "<div>\n",
       "<style scoped>\n",
       "    .dataframe tbody tr th:only-of-type {\n",
       "        vertical-align: middle;\n",
       "    }\n",
       "\n",
       "    .dataframe tbody tr th {\n",
       "        vertical-align: top;\n",
       "    }\n",
       "\n",
       "    .dataframe thead th {\n",
       "        text-align: right;\n",
       "    }\n",
       "</style>\n",
       "<table border=\"1\" class=\"dataframe\">\n",
       "  <thead>\n",
       "    <tr style=\"text-align: right;\">\n",
       "      <th></th>\n",
       "      <th>TopicTitle</th>\n",
       "      <th>TopicURL</th>\n",
       "      <th>User</th>\n",
       "      <th>Time</th>\n",
       "      <th>NumOfReplies</th>\n",
       "      <th>NumOfViews</th>\n",
       "    </tr>\n",
       "  </thead>\n",
       "  <tbody>\n",
       "    <tr>\n",
       "      <th>0</th>\n",
       "      <td>General Gaming Discussion</td>\n",
       "      <td>https://www.vgr.com/forum/topic/62-general-gam...</td>\n",
       "      <td>DC</td>\n",
       "      <td>2018-07-13T02:39:03Z</td>\n",
       "      <td>590</td>\n",
       "      <td>25.4k</td>\n",
       "    </tr>\n",
       "    <tr>\n",
       "      <th>1</th>\n",
       "      <td>Last Game Played</td>\n",
       "      <td>https://www.vgr.com/forum/topic/60-last-game-p...</td>\n",
       "      <td>DC</td>\n",
       "      <td>2018-07-13T02:32:10Z</td>\n",
       "      <td>4.1k</td>\n",
       "      <td>334.3k</td>\n",
       "    </tr>\n",
       "    <tr>\n",
       "      <th>2</th>\n",
       "      <td>[Sponsored] Sneak Energy - the drink every gam...</td>\n",
       "      <td>https://www.vgr.com/forum/topic/15138-sponsore...</td>\n",
       "      <td>DC</td>\n",
       "      <td>2022-09-09T16:11:05Z</td>\n",
       "      <td>29</td>\n",
       "      <td>1.4k</td>\n",
       "    </tr>\n",
       "    <tr>\n",
       "      <th>3</th>\n",
       "      <td>The Gaming Mod Thread</td>\n",
       "      <td>https://www.vgr.com/forum/topic/10540-the-gami...</td>\n",
       "      <td>Shagger</td>\n",
       "      <td>2021-05-21T21:32:12Z</td>\n",
       "      <td>58</td>\n",
       "      <td>12.2k</td>\n",
       "    </tr>\n",
       "    <tr>\n",
       "      <th>4</th>\n",
       "      <td>Share Your Streaming Channel and Videos in Thi...</td>\n",
       "      <td>https://www.vgr.com/forum/topic/14552-share-yo...</td>\n",
       "      <td>DC</td>\n",
       "      <td>2022-06-25T21:21:02Z</td>\n",
       "      <td>15</td>\n",
       "      <td>2.5k</td>\n",
       "    </tr>\n",
       "  </tbody>\n",
       "</table>\n",
       "</div>"
      ],
      "text/plain": [
       "                                          TopicTitle  \\\n",
       "0                          General Gaming Discussion   \n",
       "1                                   Last Game Played   \n",
       "2  [Sponsored] Sneak Energy - the drink every gam...   \n",
       "3                              The Gaming Mod Thread   \n",
       "4  Share Your Streaming Channel and Videos in Thi...   \n",
       "\n",
       "                                            TopicURL     User  \\\n",
       "0  https://www.vgr.com/forum/topic/62-general-gam...       DC   \n",
       "1  https://www.vgr.com/forum/topic/60-last-game-p...       DC   \n",
       "2  https://www.vgr.com/forum/topic/15138-sponsore...       DC   \n",
       "3  https://www.vgr.com/forum/topic/10540-the-gami...  Shagger   \n",
       "4  https://www.vgr.com/forum/topic/14552-share-yo...       DC   \n",
       "\n",
       "                   Time NumOfReplies NumOfViews  \n",
       "0  2018-07-13T02:39:03Z          590      25.4k  \n",
       "1  2018-07-13T02:32:10Z         4.1k     334.3k  \n",
       "2  2022-09-09T16:11:05Z           29       1.4k  \n",
       "3  2021-05-21T21:32:12Z           58      12.2k  \n",
       "4  2022-06-25T21:21:02Z           15       2.5k  "
      ]
     },
     "execution_count": 28,
     "metadata": {},
     "output_type": "execute_result"
    }
   ],
   "source": [
    "df_master.head()"
   ]
  },
  {
   "cell_type": "code",
   "execution_count": 29,
   "metadata": {
    "scrolled": true
   },
   "outputs": [],
   "source": [
    "# Save the dataset as a CSV file\n",
    "df_master.to_csv('GamingForumData_20220926.csv')"
   ]
  }
 ],
 "metadata": {
  "kernelspec": {
   "display_name": "Python 3 (ipykernel)",
   "language": "python",
   "name": "python3"
  },
  "language_info": {
   "codemirror_mode": {
    "name": "ipython",
    "version": 3
   },
   "file_extension": ".py",
   "mimetype": "text/x-python",
   "name": "python",
   "nbconvert_exporter": "python",
   "pygments_lexer": "ipython3",
   "version": "3.9.12"
  }
 },
 "nbformat": 4,
 "nbformat_minor": 1
}
